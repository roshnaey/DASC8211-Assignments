{
 "cells": [
  {
   "cell_type": "markdown",
   "metadata": {},
   "source": [
    "### Student Name: Roshnaey Khattak"
   ]
  },
  {
   "cell_type": "code",
   "execution_count": 1,
   "metadata": {},
   "outputs": [],
   "source": [
    "#TODO: import the modules\n",
    "import pandas as pd\n",
    "import matplotlib.pyplot as plt\n",
    "from sklearn.feature_selection import RFE, SelectKBest, chi2, f_classif\n",
    "import sklearn.feature_selection\n",
    "from sklearn import svm\n",
    "from sklearn.preprocessing import MinMaxScaler\n",
    "import datetime\n",
    "import numpy as np\n",
    "import datetime\n",
    "from datetime import date\n",
    "from datetime import time\n",
    "from datetime import datetime\n",
    "import matplotlib.pyplot as plt"
   ]
  },
  {
   "cell_type": "markdown",
   "metadata": {},
   "source": [
    "### Step 1 - Load the data"
   ]
  },
  {
   "cell_type": "code",
   "execution_count": 2,
   "metadata": {},
   "outputs": [
    {
     "data": {
      "text/plain": [
       "<AxesSubplot:>"
      ]
     },
     "execution_count": 2,
     "metadata": {},
     "output_type": "execute_result"
    },
    {
     "data": {
      "image/png": "[encoded data removed]",
      "text/plain": [
       "<Figure size 432x288 with 1 Axes>"
      ]
     },
     "metadata": {
      "needs_background": "light"
     },
     "output_type": "display_data"
    }
   ],
   "source": [
    "sample_size = 1000\n",
    "file_path   = '/Users/roshnaey/Desktop/trip_data.csv' #TODO: provide the file path or URL to the dataset `trip_data.csv`\n",
    "\n",
    "df = pd.read_csv(file_path, parse_dates = True)\n",
    "df = df.groupby('tip').apply(lambda x: x.sample(sample_size))\n",
    "df = df.sample(frac=1) #shuffle the dataframe rows\n",
    "\n",
    "#visualize the sample data, which contain 1000 observations from each class\n",
    "df.tip.value_counts().sort_index().plot.bar()"
   ]
  },
  {
   "cell_type": "code",
   "execution_count": 3,
   "metadata": {},
   "outputs": [
    {
     "name": "stdout",
     "output_type": "stream",
     "text": [
      "tip             \n",
      "standard  85747     standard\n",
      "          121026    standard\n",
      "good      65516         good\n",
      "low       34715          low\n",
      "good      48851         good\n",
      "                      ...   \n",
      "standard  6442      standard\n",
      "no-tip    130754      no-tip\n",
      "good      25792         good\n",
      "standard  32123     standard\n",
      "          11923     standard\n",
      "Name: tip, Length: 4000, dtype: object\n"
     ]
    }
   ],
   "source": [
    "print (df.tip)"
   ]
  },
  {
   "cell_type": "markdown",
   "metadata": {},
   "source": [
    "### Step 2: Create a new feature called `trip_duration`"
   ]
  },
  {
   "cell_type": "code",
   "execution_count": 4,
   "metadata": {},
   "outputs": [],
   "source": [
    "#Create a new feature called trip_duration and add it to the dataframe\n",
    "\n",
    "df['lpep_pickup_datetime'] = pd.to_datetime(df['lpep_pickup_datetime'])\n",
    "df['lpep_dropoff_datetime'] = pd.to_datetime(df['lpep_dropoff_datetime'])"
   ]
  },
  {
   "cell_type": "code",
   "execution_count": 5,
   "metadata": {},
   "outputs": [],
   "source": [
    "pickup = pd.to_datetime(df['lpep_pickup_datetime'])\n",
    "dropoff = pd.to_datetime(df['lpep_dropoff_datetime'])\n",
    "elapsed_time = dropoff - pickup"
   ]
  },
  {
   "cell_type": "code",
   "execution_count": 6,
   "metadata": {},
   "outputs": [],
   "source": [
    "trip_duration = pd.to_numeric(elapsed_time.dt.seconds, downcast = 'integer')"
   ]
  },
  {
   "cell_type": "code",
   "execution_count": 7,
   "metadata": {},
   "outputs": [
    {
     "name": "stdout",
     "output_type": "stream",
     "text": [
      "tip             \n",
      "standard  85747      801\n",
      "          121026    1528\n",
      "good      65516      206\n",
      "low       34715      500\n",
      "good      48851      352\n",
      "                    ... \n",
      "standard  6442       252\n",
      "no-tip    130754     424\n",
      "good      25792      601\n",
      "standard  32123      450\n",
      "          11923     1536\n",
      "Name: trip_duration, Length: 4000, dtype: int32\n"
     ]
    }
   ],
   "source": [
    "#TODO: Calculate the difference between `lpep_pickup_datetime` and `lpep_dropoff_datetime` in seconds (this should be a positive number).\n",
    "\n",
    "df['trip_duration'] = trip_duration #TODO: store the elapsed time (from above) into the dataframe.\n",
    "print(df.trip_duration)"
   ]
  },
  {
   "cell_type": "code",
   "execution_count": 8,
   "metadata": {},
   "outputs": [],
   "source": [
    "#Remove the `lpep_pickup_datetime` and `lpep_dropoff_datetime` from the dataframe.\n",
    "del df['lpep_dropoff_datetime']\n",
    "del df['lpep_pickup_datetime']"
   ]
  },
  {
   "cell_type": "markdown",
   "metadata": {},
   "source": [
    "### Step 3: Encode the labels in the `tip` field.\n",
    "Use the [LabelEncoder](https://scikit-learn.org/stable/modules/generated/sklearn.preprocessing.LabelEncoder.html) in scikit learn."
   ]
  },
  {
   "cell_type": "code",
   "execution_count": 9,
   "metadata": {},
   "outputs": [],
   "source": [
    "#Encode the class labels\n",
    "\n",
    "#TODO: Initialize the `LabelEncoder`\n",
    "from sklearn import preprocessing\n",
    "le = preprocessing.LabelEncoder()"
   ]
  },
  {
   "cell_type": "code",
   "execution_count": 10,
   "metadata": {},
   "outputs": [
    {
     "data": {
      "text/plain": [
       "low         1000\n",
       "standard    1000\n",
       "no-tip      1000\n",
       "good        1000\n",
       "Name: tip, dtype: int64"
      ]
     },
     "execution_count": 10,
     "metadata": {},
     "output_type": "execute_result"
    }
   ],
   "source": [
    "df['tip'].value_counts()"
   ]
  },
  {
   "cell_type": "code",
   "execution_count": 11,
   "metadata": {},
   "outputs": [
    {
     "data": {
      "text/plain": [
       "LabelEncoder()"
      ]
     },
     "execution_count": 11,
     "metadata": {},
     "output_type": "execute_result"
    }
   ],
   "source": [
    "#TODO: Fit the `LabelEncoder` to the class labels in the 'tip' field\n",
    "le.fit(df.tip)\n",
    "#le.fit([\"no-tip\", \"low\", \"standard\", \"good\"])"
   ]
  },
  {
   "cell_type": "code",
   "execution_count": 12,
   "metadata": {},
   "outputs": [
    {
     "data": {
      "text/plain": [
       "array([3, 3, 0, ..., 0, 3, 3])"
      ]
     },
     "execution_count": 12,
     "metadata": {},
     "output_type": "execute_result"
    }
   ],
   "source": [
    "#TODO: Use the `LabelEncoder` to encode class labels in the 'tip' field.\n",
    "le.classes_\n",
    "list(le.classes_)\n",
    "le.transform(df.tip)"
   ]
  },
  {
   "cell_type": "code",
   "execution_count": 13,
   "metadata": {},
   "outputs": [
    {
     "data": {
      "text/plain": [
       "['no-tip', 'low', 'standard', 'good']"
      ]
     },
     "execution_count": 13,
     "metadata": {},
     "output_type": "execute_result"
    }
   ],
   "source": [
    "#TODO: Display the encoded labels\n",
    "list(le.inverse_transform([2, 1, 3, 0]))"
   ]
  },
  {
   "cell_type": "code",
   "execution_count": 14,
   "metadata": {},
   "outputs": [],
   "source": [
    "df['tip_labeled'] = le.transform(df.tip)"
   ]
  },
  {
   "cell_type": "code",
   "execution_count": 15,
   "metadata": {},
   "outputs": [
    {
     "data": {
      "text/html": [
       "<div>\n",
       "<style scoped>\n",
       "    .dataframe tbody tr th:only-of-type {\n",
       "        vertical-align: middle;\n",
       "    }\n",
       "\n",
       "    .dataframe tbody tr th {\n",
       "        vertical-align: top;\n",
       "    }\n",
       "\n",
       "    .dataframe thead th {\n",
       "        text-align: right;\n",
       "    }\n",
       "</style>\n",
       "<table border=\"1\" class=\"dataframe\">\n",
       "  <thead>\n",
       "    <tr style=\"text-align: right;\">\n",
       "      <th></th>\n",
       "      <th></th>\n",
       "      <th>VendorID</th>\n",
       "      <th>RatecodeID</th>\n",
       "      <th>PULocationID</th>\n",
       "      <th>DOLocationID</th>\n",
       "      <th>passenger_count</th>\n",
       "      <th>trip_distance</th>\n",
       "      <th>fare_amount</th>\n",
       "      <th>extra</th>\n",
       "      <th>mta_tax</th>\n",
       "      <th>tolls_amount</th>\n",
       "      <th>improvement_surcharge</th>\n",
       "      <th>total_amount</th>\n",
       "      <th>trip_type</th>\n",
       "      <th>congestion_surcharge</th>\n",
       "      <th>trip_duration</th>\n",
       "      <th>tip_labeled</th>\n",
       "    </tr>\n",
       "    <tr>\n",
       "      <th>tip</th>\n",
       "      <th></th>\n",
       "      <th></th>\n",
       "      <th></th>\n",
       "      <th></th>\n",
       "      <th></th>\n",
       "      <th></th>\n",
       "      <th></th>\n",
       "      <th></th>\n",
       "      <th></th>\n",
       "      <th></th>\n",
       "      <th></th>\n",
       "      <th></th>\n",
       "      <th></th>\n",
       "      <th></th>\n",
       "      <th></th>\n",
       "      <th></th>\n",
       "      <th></th>\n",
       "    </tr>\n",
       "  </thead>\n",
       "  <tbody>\n",
       "    <tr>\n",
       "      <th rowspan=\"2\" valign=\"top\">standard</th>\n",
       "      <th>85747</th>\n",
       "      <td>2.0</td>\n",
       "      <td>1.0</td>\n",
       "      <td>166</td>\n",
       "      <td>236</td>\n",
       "      <td>1.0</td>\n",
       "      <td>2.43</td>\n",
       "      <td>11.0</td>\n",
       "      <td>0.5</td>\n",
       "      <td>0.5</td>\n",
       "      <td>0.0</td>\n",
       "      <td>0.3</td>\n",
       "      <td>18.81</td>\n",
       "      <td>1.0</td>\n",
       "      <td>2.75</td>\n",
       "      <td>801</td>\n",
       "      <td>3</td>\n",
       "    </tr>\n",
       "    <tr>\n",
       "      <th>121026</th>\n",
       "      <td>2.0</td>\n",
       "      <td>1.0</td>\n",
       "      <td>7</td>\n",
       "      <td>161</td>\n",
       "      <td>1.0</td>\n",
       "      <td>4.10</td>\n",
       "      <td>18.0</td>\n",
       "      <td>0.0</td>\n",
       "      <td>0.5</td>\n",
       "      <td>0.0</td>\n",
       "      <td>0.3</td>\n",
       "      <td>25.86</td>\n",
       "      <td>1.0</td>\n",
       "      <td>2.75</td>\n",
       "      <td>1528</td>\n",
       "      <td>3</td>\n",
       "    </tr>\n",
       "    <tr>\n",
       "      <th>good</th>\n",
       "      <th>65516</th>\n",
       "      <td>2.0</td>\n",
       "      <td>1.0</td>\n",
       "      <td>260</td>\n",
       "      <td>83</td>\n",
       "      <td>1.0</td>\n",
       "      <td>0.53</td>\n",
       "      <td>4.5</td>\n",
       "      <td>0.5</td>\n",
       "      <td>0.5</td>\n",
       "      <td>0.0</td>\n",
       "      <td>0.3</td>\n",
       "      <td>6.96</td>\n",
       "      <td>1.0</td>\n",
       "      <td>0.00</td>\n",
       "      <td>206</td>\n",
       "      <td>0</td>\n",
       "    </tr>\n",
       "    <tr>\n",
       "      <th>low</th>\n",
       "      <th>34715</th>\n",
       "      <td>2.0</td>\n",
       "      <td>1.0</td>\n",
       "      <td>33</td>\n",
       "      <td>33</td>\n",
       "      <td>2.0</td>\n",
       "      <td>1.25</td>\n",
       "      <td>7.0</td>\n",
       "      <td>1.0</td>\n",
       "      <td>0.5</td>\n",
       "      <td>0.0</td>\n",
       "      <td>0.3</td>\n",
       "      <td>10.56</td>\n",
       "      <td>1.0</td>\n",
       "      <td>0.00</td>\n",
       "      <td>500</td>\n",
       "      <td>1</td>\n",
       "    </tr>\n",
       "    <tr>\n",
       "      <th>good</th>\n",
       "      <th>48851</th>\n",
       "      <td>1.0</td>\n",
       "      <td>1.0</td>\n",
       "      <td>244</td>\n",
       "      <td>244</td>\n",
       "      <td>1.0</td>\n",
       "      <td>0.80</td>\n",
       "      <td>6.0</td>\n",
       "      <td>0.0</td>\n",
       "      <td>0.5</td>\n",
       "      <td>0.0</td>\n",
       "      <td>0.3</td>\n",
       "      <td>9.80</td>\n",
       "      <td>1.0</td>\n",
       "      <td>0.00</td>\n",
       "      <td>352</td>\n",
       "      <td>0</td>\n",
       "    </tr>\n",
       "  </tbody>\n",
       "</table>\n",
       "</div>"
      ],
      "text/plain": [
       "                 VendorID  RatecodeID  PULocationID  DOLocationID  \\\n",
       "tip                                                                 \n",
       "standard 85747        2.0         1.0           166           236   \n",
       "         121026       2.0         1.0             7           161   \n",
       "good     65516        2.0         1.0           260            83   \n",
       "low      34715        2.0         1.0            33            33   \n",
       "good     48851        1.0         1.0           244           244   \n",
       "\n",
       "                 passenger_count  trip_distance  fare_amount  extra  mta_tax  \\\n",
       "tip                                                                            \n",
       "standard 85747               1.0           2.43         11.0    0.5      0.5   \n",
       "         121026              1.0           4.10         18.0    0.0      0.5   \n",
       "good     65516               1.0           0.53          4.5    0.5      0.5   \n",
       "low      34715               2.0           1.25          7.0    1.0      0.5   \n",
       "good     48851               1.0           0.80          6.0    0.0      0.5   \n",
       "\n",
       "                 tolls_amount  improvement_surcharge  total_amount  trip_type  \\\n",
       "tip                                                                             \n",
       "standard 85747            0.0                    0.3         18.81        1.0   \n",
       "         121026           0.0                    0.3         25.86        1.0   \n",
       "good     65516            0.0                    0.3          6.96        1.0   \n",
       "low      34715            0.0                    0.3         10.56        1.0   \n",
       "good     48851            0.0                    0.3          9.80        1.0   \n",
       "\n",
       "                 congestion_surcharge  trip_duration  tip_labeled  \n",
       "tip                                                                \n",
       "standard 85747                   2.75            801            3  \n",
       "         121026                  2.75           1528            3  \n",
       "good     65516                   0.00            206            0  \n",
       "low      34715                   0.00            500            1  \n",
       "good     48851                   0.00            352            0  "
      ]
     },
     "execution_count": 15,
     "metadata": {},
     "output_type": "execute_result"
    }
   ],
   "source": [
    "del df['tip']\n",
    "\n",
    "df.head()"
   ]
  },
  {
   "cell_type": "code",
   "execution_count": 16,
   "metadata": {},
   "outputs": [],
   "source": [
    "#assign the input features and the class labels to variables 'X' and 'y' respectively.\n",
    "\n",
    "#features_columns = ['VendorID', 'RatecodeID', 'PULocationID', 'DOLocationID', 'passenger_count', 'trip_distance', 'fare_amount', 'extra', 'mta_tax', 'tolls_amount', 'improvement_surcharge', 'total_amount', 'trip_type', 'congestion_surcharge', 'trip_duration']\n",
    "\n",
    "X = df.iloc[:,0:15] #input features\n",
    "\n",
    "y = df.iloc[:,15] #TODO: assign the encoded labels to a variale 'y'."
   ]
  },
  {
   "cell_type": "code",
   "execution_count": 17,
   "metadata": {},
   "outputs": [
    {
     "name": "stdout",
     "output_type": "stream",
     "text": [
      "tip             \n",
      "standard  85747     3\n",
      "          121026    3\n",
      "good      65516     0\n",
      "low       34715     1\n",
      "good      48851     0\n",
      "                   ..\n",
      "standard  6442      3\n",
      "no-tip    130754    2\n",
      "good      25792     0\n",
      "standard  32123     3\n",
      "          11923     3\n",
      "Name: tip_labeled, Length: 4000, dtype: int64\n"
     ]
    }
   ],
   "source": [
    "print(y)"
   ]
  },
  {
   "cell_type": "markdown",
   "metadata": {},
   "source": [
    "### Step 4: Feature selection"
   ]
  },
  {
   "cell_type": "markdown",
   "metadata": {},
   "source": [
    "#### Filter Methods"
   ]
  },
  {
   "cell_type": "markdown",
   "metadata": {},
   "source": [
    "[Univariate feature selection](https://scikit-learn.org/stable/modules/feature_selection.html#univariate-feature-selection): use [SelectKBest](https://scikit-learn.org/stable/modules/generated/sklearn.feature_selection.SelectKBest.html#sklearn.feature_selection.SelectKBest) to select the seven highest scoring features (i.e. k=7)."
   ]
  },
  {
   "cell_type": "code",
   "execution_count": 18,
   "metadata": {},
   "outputs": [],
   "source": [
    "#Univariate feature selection using SelectKBest.\n",
    "\n",
    "k_best = SelectKBest(score_func= chi2, #TODO choose either chi2 or f_classif\n",
    "                     k= 7 #TODO: enter the value for k\n",
    "                    )"
   ]
  },
  {
   "cell_type": "code",
   "execution_count": 19,
   "metadata": {},
   "outputs": [],
   "source": [
    "k_best = k_best.fit(X, y)\n",
    "\n",
    "features = k_best.transform(X)"
   ]
  },
  {
   "cell_type": "markdown",
   "metadata": {},
   "source": [
    "#### Wrapper methods"
   ]
  },
  {
   "cell_type": "code",
   "execution_count": 20,
   "metadata": {},
   "outputs": [
    {
     "name": "stdout",
     "output_type": "stream",
     "text": [
      "[False False  True  True False  True  True False False False False  True\n",
      " False  True  True]\n"
     ]
    }
   ],
   "source": [
    "#TODO: display the names of the selected features below\n",
    "selectedfeatures = k_best.get_support()\n",
    "print(selectedfeatures)"
   ]
  },
  {
   "cell_type": "code",
   "execution_count": 21,
   "metadata": {},
   "outputs": [
    {
     "data": {
      "text/html": [
       "<div>\n",
       "<style scoped>\n",
       "    .dataframe tbody tr th:only-of-type {\n",
       "        vertical-align: middle;\n",
       "    }\n",
       "\n",
       "    .dataframe tbody tr th {\n",
       "        vertical-align: top;\n",
       "    }\n",
       "\n",
       "    .dataframe thead th {\n",
       "        text-align: right;\n",
       "    }\n",
       "</style>\n",
       "<table border=\"1\" class=\"dataframe\">\n",
       "  <thead>\n",
       "    <tr style=\"text-align: right;\">\n",
       "      <th></th>\n",
       "      <th></th>\n",
       "      <th>VendorID</th>\n",
       "      <th>RatecodeID</th>\n",
       "      <th>PULocationID</th>\n",
       "      <th>DOLocationID</th>\n",
       "      <th>passenger_count</th>\n",
       "      <th>trip_distance</th>\n",
       "      <th>fare_amount</th>\n",
       "      <th>extra</th>\n",
       "      <th>mta_tax</th>\n",
       "      <th>tolls_amount</th>\n",
       "      <th>improvement_surcharge</th>\n",
       "      <th>total_amount</th>\n",
       "      <th>trip_type</th>\n",
       "      <th>congestion_surcharge</th>\n",
       "      <th>trip_duration</th>\n",
       "      <th>tip_labeled</th>\n",
       "    </tr>\n",
       "    <tr>\n",
       "      <th>tip</th>\n",
       "      <th></th>\n",
       "      <th></th>\n",
       "      <th></th>\n",
       "      <th></th>\n",
       "      <th></th>\n",
       "      <th></th>\n",
       "      <th></th>\n",
       "      <th></th>\n",
       "      <th></th>\n",
       "      <th></th>\n",
       "      <th></th>\n",
       "      <th></th>\n",
       "      <th></th>\n",
       "      <th></th>\n",
       "      <th></th>\n",
       "      <th></th>\n",
       "      <th></th>\n",
       "    </tr>\n",
       "  </thead>\n",
       "  <tbody>\n",
       "    <tr>\n",
       "      <th rowspan=\"2\" valign=\"top\">standard</th>\n",
       "      <th>85747</th>\n",
       "      <td>2.0</td>\n",
       "      <td>1.0</td>\n",
       "      <td>166</td>\n",
       "      <td>236</td>\n",
       "      <td>1.0</td>\n",
       "      <td>2.43</td>\n",
       "      <td>11.0</td>\n",
       "      <td>0.5</td>\n",
       "      <td>0.5</td>\n",
       "      <td>0.0</td>\n",
       "      <td>0.3</td>\n",
       "      <td>18.81</td>\n",
       "      <td>1.0</td>\n",
       "      <td>2.75</td>\n",
       "      <td>801</td>\n",
       "      <td>3</td>\n",
       "    </tr>\n",
       "    <tr>\n",
       "      <th>121026</th>\n",
       "      <td>2.0</td>\n",
       "      <td>1.0</td>\n",
       "      <td>7</td>\n",
       "      <td>161</td>\n",
       "      <td>1.0</td>\n",
       "      <td>4.10</td>\n",
       "      <td>18.0</td>\n",
       "      <td>0.0</td>\n",
       "      <td>0.5</td>\n",
       "      <td>0.0</td>\n",
       "      <td>0.3</td>\n",
       "      <td>25.86</td>\n",
       "      <td>1.0</td>\n",
       "      <td>2.75</td>\n",
       "      <td>1528</td>\n",
       "      <td>3</td>\n",
       "    </tr>\n",
       "    <tr>\n",
       "      <th>good</th>\n",
       "      <th>65516</th>\n",
       "      <td>2.0</td>\n",
       "      <td>1.0</td>\n",
       "      <td>260</td>\n",
       "      <td>83</td>\n",
       "      <td>1.0</td>\n",
       "      <td>0.53</td>\n",
       "      <td>4.5</td>\n",
       "      <td>0.5</td>\n",
       "      <td>0.5</td>\n",
       "      <td>0.0</td>\n",
       "      <td>0.3</td>\n",
       "      <td>6.96</td>\n",
       "      <td>1.0</td>\n",
       "      <td>0.00</td>\n",
       "      <td>206</td>\n",
       "      <td>0</td>\n",
       "    </tr>\n",
       "    <tr>\n",
       "      <th>low</th>\n",
       "      <th>34715</th>\n",
       "      <td>2.0</td>\n",
       "      <td>1.0</td>\n",
       "      <td>33</td>\n",
       "      <td>33</td>\n",
       "      <td>2.0</td>\n",
       "      <td>1.25</td>\n",
       "      <td>7.0</td>\n",
       "      <td>1.0</td>\n",
       "      <td>0.5</td>\n",
       "      <td>0.0</td>\n",
       "      <td>0.3</td>\n",
       "      <td>10.56</td>\n",
       "      <td>1.0</td>\n",
       "      <td>0.00</td>\n",
       "      <td>500</td>\n",
       "      <td>1</td>\n",
       "    </tr>\n",
       "    <tr>\n",
       "      <th>good</th>\n",
       "      <th>48851</th>\n",
       "      <td>1.0</td>\n",
       "      <td>1.0</td>\n",
       "      <td>244</td>\n",
       "      <td>244</td>\n",
       "      <td>1.0</td>\n",
       "      <td>0.80</td>\n",
       "      <td>6.0</td>\n",
       "      <td>0.0</td>\n",
       "      <td>0.5</td>\n",
       "      <td>0.0</td>\n",
       "      <td>0.3</td>\n",
       "      <td>9.80</td>\n",
       "      <td>1.0</td>\n",
       "      <td>0.00</td>\n",
       "      <td>352</td>\n",
       "      <td>0</td>\n",
       "    </tr>\n",
       "  </tbody>\n",
       "</table>\n",
       "</div>"
      ],
      "text/plain": [
       "                 VendorID  RatecodeID  PULocationID  DOLocationID  \\\n",
       "tip                                                                 \n",
       "standard 85747        2.0         1.0           166           236   \n",
       "         121026       2.0         1.0             7           161   \n",
       "good     65516        2.0         1.0           260            83   \n",
       "low      34715        2.0         1.0            33            33   \n",
       "good     48851        1.0         1.0           244           244   \n",
       "\n",
       "                 passenger_count  trip_distance  fare_amount  extra  mta_tax  \\\n",
       "tip                                                                            \n",
       "standard 85747               1.0           2.43         11.0    0.5      0.5   \n",
       "         121026              1.0           4.10         18.0    0.0      0.5   \n",
       "good     65516               1.0           0.53          4.5    0.5      0.5   \n",
       "low      34715               2.0           1.25          7.0    1.0      0.5   \n",
       "good     48851               1.0           0.80          6.0    0.0      0.5   \n",
       "\n",
       "                 tolls_amount  improvement_surcharge  total_amount  trip_type  \\\n",
       "tip                                                                             \n",
       "standard 85747            0.0                    0.3         18.81        1.0   \n",
       "         121026           0.0                    0.3         25.86        1.0   \n",
       "good     65516            0.0                    0.3          6.96        1.0   \n",
       "low      34715            0.0                    0.3         10.56        1.0   \n",
       "good     48851            0.0                    0.3          9.80        1.0   \n",
       "\n",
       "                 congestion_surcharge  trip_duration  tip_labeled  \n",
       "tip                                                                \n",
       "standard 85747                   2.75            801            3  \n",
       "         121026                  2.75           1528            3  \n",
       "good     65516                   0.00            206            0  \n",
       "low      34715                   0.00            500            1  \n",
       "good     48851                   0.00            352            0  "
      ]
     },
     "execution_count": 21,
     "metadata": {},
     "output_type": "execute_result"
    }
   ],
   "source": [
    "df.head()"
   ]
  },
  {
   "cell_type": "markdown",
   "metadata": {},
   "source": [
    "- VendorID - FALSE\n",
    "- RatecodeID - FALSE\n",
    "- PULocationID - TRUE\n",
    "- DOLocationID - TRUE\n",
    "- passenger_count - FALSE\n",
    "- trip_distance - TRUE\n",
    "- fare_amount - TRUE\n",
    "- extra - FALSE\n",
    "- mta_tax - FALSE\n",
    "- tolls_amount - FALSE\n",
    "- improvement_surcharge - FALSE\n",
    "- total_amount - TRUE\n",
    "- trip_type - FALSE\n",
    "- congestion_surcharge - TRUE\n",
    "- trip_duration - TRUE\n",
    "\n",
    "From this, we can see that the following features were selected by the KBest method:\n",
    "- PULocationID\n",
    "- DOLocationID\n",
    "- trip_distance\n",
    "- fare_amount\n",
    "- total_amount\n",
    "- congestion_surcharge\n",
    "- trip_duration"
   ]
  },
  {
   "cell_type": "markdown",
   "metadata": {},
   "source": [
    "Identify the top seven features using [Support Vector Machines (SVM)](https://scikit-learn.org/stable/modules/svm.html) and [Recursive feature elimination (RFE)](https://scikit-learn.org/stable/modules/generated/sklearn.feature_selection.RFE.html#sklearn.feature_selection.RFE).\n",
    "\n",
    "Here is an example on using [SVMs for classification](https://scikit-learn.org/stable/modules/svm.html#classification) and [RFE](https://scikit-learn.org/stable/auto_examples/feature_selection/plot_rfe_digits.html#sphx-glr-auto-examples-feature-selection-plot-rfe-digits-py) in scikit-learn."
   ]
  },
  {
   "cell_type": "code",
   "execution_count": 22,
   "metadata": {},
   "outputs": [],
   "source": [
    "\n",
    "svm_estimator = svm.SVC(kernel='linear') #initialize the SVM estimator\n",
    "\n",
    "#TODO: Recursive Feature Elimination\n",
    "rfe = RFE(estimator= svm_estimator, #TODO: provide the SVM estimator \n",
    "          verbose=1, \n",
    "          n_features_to_select= 7#TODO: enter the number of required features\n",
    "         )\n"
   ]
  },
  {
   "cell_type": "code",
   "execution_count": 23,
   "metadata": {},
   "outputs": [
    {
     "name": "stdout",
     "output_type": "stream",
     "text": [
      "Fitting estimator with 15 features.\n",
      "Fitting estimator with 14 features.\n",
      "Fitting estimator with 13 features.\n",
      "Fitting estimator with 12 features.\n",
      "Fitting estimator with 11 features.\n",
      "Fitting estimator with 10 features.\n",
      "Fitting estimator with 9 features.\n",
      "Fitting estimator with 8 features.\n"
     ]
    }
   ],
   "source": [
    "selector = rfe.fit(X, y) #Note: this may take a few minutes to complete"
   ]
  },
  {
   "cell_type": "code",
   "execution_count": 24,
   "metadata": {},
   "outputs": [
    {
     "data": {
      "text/plain": [
       "array([False, False, False, False, False, False,  True,  True,  True,\n",
       "        True, False,  True,  True,  True, False])"
      ]
     },
     "execution_count": 24,
     "metadata": {},
     "output_type": "execute_result"
    }
   ],
   "source": [
    "#TODO: display the names of the selected features below\n",
    "selector.support_"
   ]
  },
  {
   "cell_type": "markdown",
   "metadata": {},
   "source": [
    "- VendorID - FALSE\n",
    "- RatecodeID - FALSE\n",
    "- PULocationID - FALSE\n",
    "- DOLocationID - FALSE\n",
    "- passenger_count - FALSE\n",
    "- trip_distance - FALSE\n",
    "- fare_amount - TRUE\n",
    "- extra - TRUE\n",
    "- mta_tax - TRUE\n",
    "- tolls_amount - TRUE\n",
    "- improvement_surcharge - FALSE\n",
    "- total_amount - TRUE\n",
    "- trip_type - TRUE\n",
    "- congestion_surcharge - TRUE\n",
    "- trip_duration - FALSE\n",
    "\n",
    "From this, we can see that the following features were selected by the RFE method:\n",
    "- fare_amount\n",
    "- extra\n",
    "- mta_tax\n",
    "- tolls_amount\n",
    "- total_amount\n",
    "- trip_type\n",
    "- congestion_surcharge"
   ]
  },
  {
   "cell_type": "markdown",
   "metadata": {},
   "source": [
    "#### The results\n",
    "Compare and contrast the selected features from the filter and wrapper methods. "
   ]
  },
  {
   "cell_type": "code",
   "execution_count": 25,
   "metadata": {},
   "outputs": [],
   "source": [
    "#TODO: Compare and contrast the results\n",
    "### I found that the KBest method results included variables that I initially thought were more \"relevant\". Alternatively,\n",
    "### the RFE method included variables that I thought weren't relevant, such as the extra, mta tax, and congestion\n",
    "### surcharge varaibles. The RFE method did not contain the new trip duration variable. "
   ]
  },
  {
   "cell_type": "raw",
   "metadata": {},
   "source": [
    "### Step 5: Standardize the input features \n",
    "Use the [MinMaxScaler](https://scikit-learn.org/stable/modules/generated/sklearn.preprocessing.MinMaxScaler.html#sklearn.preprocessing.MinMaxScaler) in [scikit-learn's preprocessing module](https://scikit-learn.org/stable/modules/preprocessing.html) to scale the input features between 0.1 and 0.9 (i.e. the min and max respectively). "
   ]
  },
  {
   "cell_type": "code",
   "execution_count": 26,
   "metadata": {},
   "outputs": [],
   "source": [
    "#Standardize the input features\n",
    "scaler = MinMaxScaler(feature_range= (.1, .9) #TODO: provide the min and max values for the features\n",
    "                     )\n",
    "\n",
    "X = scaler.fit_transform(X)"
   ]
  },
  {
   "cell_type": "code",
   "execution_count": 32,
   "metadata": {},
   "outputs": [],
   "source": [
    "#TODO: Perform the SelectKBest and Recursive Feature Elimination steps using the standardized data\n",
    "k_best = SelectKBest(score_func= chi2, #TODO choose either chi2 or f_classif\n",
    "                     k= 7 #TODO: enter the value for k\n",
    "                    )\n",
    "k_best = k_best.fit(X, y)\n",
    "\n",
    "features = k_best.transform(X)"
   ]
  },
  {
   "cell_type": "code",
   "execution_count": 28,
   "metadata": {},
   "outputs": [
    {
     "name": "stdout",
     "output_type": "stream",
     "text": [
      "Fitting estimator with 15 features.\n",
      "Fitting estimator with 14 features.\n",
      "Fitting estimator with 13 features.\n",
      "Fitting estimator with 12 features.\n",
      "Fitting estimator with 11 features.\n",
      "Fitting estimator with 10 features.\n",
      "Fitting estimator with 9 features.\n",
      "Fitting estimator with 8 features.\n"
     ]
    }
   ],
   "source": [
    "rfe = RFE(estimator= svm_estimator, \n",
    "          verbose=1, \n",
    "          n_features_to_select= 7\n",
    "         )\n",
    "selector = rfe.fit(X, y)\n"
   ]
  },
  {
   "cell_type": "code",
   "execution_count": 29,
   "metadata": {},
   "outputs": [
    {
     "name": "stdout",
     "output_type": "stream",
     "text": [
      "[ True  True False  True False  True  True  True False False False False\n",
      " False  True False]\n"
     ]
    }
   ],
   "source": [
    "selectedfeatures = k_best.get_support()\n",
    "print(selectedfeatures)"
   ]
  },
  {
   "cell_type": "code",
   "execution_count": 33,
   "metadata": {},
   "outputs": [
    {
     "data": {
      "text/plain": [
       "array([False,  True, False, False, False,  True,  True, False, False,\n",
       "        True, False,  True, False,  True,  True])"
      ]
     },
     "execution_count": 33,
     "metadata": {},
     "output_type": "execute_result"
    }
   ],
   "source": [
    "selector.support_"
   ]
  },
  {
   "cell_type": "code",
   "execution_count": 34,
   "metadata": {},
   "outputs": [],
   "source": [
    "#TODO: display the names of the selected features for each method:"
   ]
  },
  {
   "cell_type": "markdown",
   "metadata": {},
   "source": [
    "### KBest\n",
    "From the above cell results, we can see that the following features were selected by the KBest method using the standardized X:\n",
    "- VendorID\n",
    "- DOLocationID *\n",
    "- trip_distance *\n",
    "- fare_amount *\n",
    "- extra\n",
    "- total_amount *\n",
    "- congestion_surcharge *\n"
   ]
  },
  {
   "cell_type": "markdown",
   "metadata": {},
   "source": [
    "### RFE\n",
    "From the above cell results, we can see that the following features were selected by the RFE method with the standardized X:\n",
    "- RatecodeID \n",
    "- PULocationID \n",
    "- trip_distance  \n",
    "- fare_amount *\n",
    "- tolls_amount *\n",
    "- total_amount *\n",
    "- congestion_surcharge *"
   ]
  },
  {
   "cell_type": "markdown",
   "metadata": {},
   "source": [
    "#### The results\n",
    "Compare and contrast the scaled features from the filter and wrapper methods. "
   ]
  },
  {
   "cell_type": "code",
   "execution_count": 35,
   "metadata": {},
   "outputs": [],
   "source": [
    "#TODO: Compare and contrast the results\n",
    "### The scaled features for the KBest method had five of the same variables as the non-scaled results (marked \n",
    "### with an asterisk), while the RFE method had four variables carry over (again, marked with an asterisk). I found\n",
    "### it interesting that one set of features contained the drop off location, while the other contained the pick up\n",
    "### location. "
   ]
  },
  {
   "cell_type": "markdown",
   "metadata": {},
   "source": [
    "### Step 6: Explain the effect of standardizing the data"
   ]
  },
  {
   "cell_type": "code",
   "execution_count": 36,
   "metadata": {},
   "outputs": [],
   "source": [
    "#TODO: Explain the effect of standardizing the data\n",
    "### Standardizing the data allows for all possible variables to carry the same weight prior to feature selection. \n",
    "### It is necessary to standardize the data in most datasets with a large number of variables that are not easily \n",
    "### comparable. For lack of a better phrase, standardizing the data allows for each variable to have an \"equal \n",
    "### shot\" at being included in the final model, and overall decreases bias."
   ]
  },
  {
   "cell_type": "markdown",
   "metadata": {},
   "source": [
    "### Step 7:  Observations about the selected features\n",
    "Based on your observations about the features, did the algorithm identify meaningful features and did they align with your previous intuition about the data (Recall the data wrangling exercise)? Did it identify any features that you would not have otherwise considered."
   ]
  },
  {
   "cell_type": "code",
   "execution_count": 37,
   "metadata": {},
   "outputs": [],
   "source": [
    "#TODO: Explain your observations.\n",
    "### As mentioned earlier, I was not expecting some of the features to have been chosen. With regards to the raw \n",
    "### data (pre-standardization), I was not expecting the RFE method to choose the extra, MTA tax, tolls amount, or \n",
    "### congestion surcharge variables. After standardizing the data, both methods chose features that I did not think \n",
    "### would be as important. The KBest method included the vendor ID variable, tolls amount, and congestion charge \n",
    "### variables, all of which I did not initially consider high importance. Additionally, the KBest selected the\n",
    "### drop off location feature but not the pick up location feature which I thought was odd. The \n",
    "### post-standardization RFE method also selected variables that I had not initially considered, such as rate \n",
    "### code ID, tolls amount, and congestion surcharge. The RFE method chose the pickup location ID feature but not \n",
    "### the drop off feature ID. "
   ]
  },
  {
   "cell_type": "code",
   "execution_count": null,
   "metadata": {},
   "outputs": [],
   "source": []
  }
 ],
 "metadata": {
  "kernelspec": {
   "display_name": "Python 3",
   "language": "python",
   "name": "python3"
  },
  "language_info": {
   "codemirror_mode": {
    "name": "ipython",
    "version": 3
   },
   "file_extension": ".py",
   "mimetype": "text/x-python",
   "name": "python",
   "nbconvert_exporter": "python",
   "pygments_lexer": "ipython3",
   "version": "3.8.5"
  }
 },
 "nbformat": 4,
 "nbformat_minor": 2
}
