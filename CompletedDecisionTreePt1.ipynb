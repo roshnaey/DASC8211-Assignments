{
 "cells": [
  {
   "cell_type": "markdown",
   "metadata": {},
   "source": [
    "### Student Name: Roshnaey Khattak "
   ]
  },
  {
   "cell_type": "code",
   "execution_count": 1,
   "metadata": {},
   "outputs": [],
   "source": [
    "#import the required modules\n",
    "import pandas as pd\n",
    "from sklearn.tree import DecisionTreeClassifier \n",
    "from sklearn.model_selection import train_test_split \n",
    "from sklearn import metrics "
   ]
  },
  {
   "cell_type": "markdown",
   "metadata": {},
   "source": [
    "### Step 1 – Load the data and extract the features"
   ]
  },
  {
   "cell_type": "code",
   "execution_count": 2,
   "metadata": {},
   "outputs": [
    {
     "data": {
      "text/html": [
       "<div>\n",
       "<style scoped>\n",
       "    .dataframe tbody tr th:only-of-type {\n",
       "        vertical-align: middle;\n",
       "    }\n",
       "\n",
       "    .dataframe tbody tr th {\n",
       "        vertical-align: top;\n",
       "    }\n",
       "\n",
       "    .dataframe thead th {\n",
       "        text-align: right;\n",
       "    }\n",
       "</style>\n",
       "<table border=\"1\" class=\"dataframe\">\n",
       "  <thead>\n",
       "    <tr style=\"text-align: right;\">\n",
       "      <th></th>\n",
       "      <th>VendorID</th>\n",
       "      <th>RatecodeID</th>\n",
       "      <th>PULocationID</th>\n",
       "      <th>DOLocationID</th>\n",
       "      <th>passenger_count</th>\n",
       "      <th>trip_distance</th>\n",
       "      <th>fare_amount</th>\n",
       "      <th>extra</th>\n",
       "      <th>mta_tax</th>\n",
       "      <th>tolls_amount</th>\n",
       "      <th>improvement_surcharge</th>\n",
       "      <th>total_amount</th>\n",
       "      <th>trip_type</th>\n",
       "      <th>congestion_surcharge</th>\n",
       "    </tr>\n",
       "  </thead>\n",
       "  <tbody>\n",
       "    <tr>\n",
       "      <th>count</th>\n",
       "      <td>171941.000000</td>\n",
       "      <td>171941.000000</td>\n",
       "      <td>171941.000000</td>\n",
       "      <td>171941.000000</td>\n",
       "      <td>171941.000000</td>\n",
       "      <td>171941.000000</td>\n",
       "      <td>171941.000000</td>\n",
       "      <td>171941.000000</td>\n",
       "      <td>171941.000000</td>\n",
       "      <td>171941.000000</td>\n",
       "      <td>171941.000000</td>\n",
       "      <td>171941.000000</td>\n",
       "      <td>171941.000000</td>\n",
       "      <td>171941.000000</td>\n",
       "    </tr>\n",
       "    <tr>\n",
       "      <th>mean</th>\n",
       "      <td>1.842190</td>\n",
       "      <td>1.045731</td>\n",
       "      <td>103.152558</td>\n",
       "      <td>133.958707</td>\n",
       "      <td>1.306262</td>\n",
       "      <td>2.359276</td>\n",
       "      <td>11.121357</td>\n",
       "      <td>0.448590</td>\n",
       "      <td>0.494548</td>\n",
       "      <td>0.077659</td>\n",
       "      <td>0.298234</td>\n",
       "      <td>15.148219</td>\n",
       "      <td>1.010719</td>\n",
       "      <td>0.600055</td>\n",
       "    </tr>\n",
       "    <tr>\n",
       "      <th>std</th>\n",
       "      <td>0.364564</td>\n",
       "      <td>0.424170</td>\n",
       "      <td>68.253994</td>\n",
       "      <td>77.035977</td>\n",
       "      <td>0.965556</td>\n",
       "      <td>1.759422</td>\n",
       "      <td>6.393361</td>\n",
       "      <td>0.632314</td>\n",
       "      <td>0.052529</td>\n",
       "      <td>0.690598</td>\n",
       "      <td>0.022948</td>\n",
       "      <td>8.329871</td>\n",
       "      <td>0.102976</td>\n",
       "      <td>1.135714</td>\n",
       "    </tr>\n",
       "    <tr>\n",
       "      <th>min</th>\n",
       "      <td>1.000000</td>\n",
       "      <td>1.000000</td>\n",
       "      <td>1.000000</td>\n",
       "      <td>1.000000</td>\n",
       "      <td>0.000000</td>\n",
       "      <td>0.010000</td>\n",
       "      <td>0.010000</td>\n",
       "      <td>0.000000</td>\n",
       "      <td>0.000000</td>\n",
       "      <td>0.000000</td>\n",
       "      <td>0.000000</td>\n",
       "      <td>0.010000</td>\n",
       "      <td>1.000000</td>\n",
       "      <td>0.000000</td>\n",
       "    </tr>\n",
       "    <tr>\n",
       "      <th>25%</th>\n",
       "      <td>2.000000</td>\n",
       "      <td>1.000000</td>\n",
       "      <td>52.000000</td>\n",
       "      <td>66.000000</td>\n",
       "      <td>1.000000</td>\n",
       "      <td>1.080000</td>\n",
       "      <td>6.500000</td>\n",
       "      <td>0.000000</td>\n",
       "      <td>0.500000</td>\n",
       "      <td>0.000000</td>\n",
       "      <td>0.300000</td>\n",
       "      <td>9.360000</td>\n",
       "      <td>1.000000</td>\n",
       "      <td>0.000000</td>\n",
       "    </tr>\n",
       "    <tr>\n",
       "      <th>50%</th>\n",
       "      <td>2.000000</td>\n",
       "      <td>1.000000</td>\n",
       "      <td>75.000000</td>\n",
       "      <td>137.000000</td>\n",
       "      <td>1.000000</td>\n",
       "      <td>1.800000</td>\n",
       "      <td>9.500000</td>\n",
       "      <td>0.500000</td>\n",
       "      <td>0.500000</td>\n",
       "      <td>0.000000</td>\n",
       "      <td>0.300000</td>\n",
       "      <td>12.880000</td>\n",
       "      <td>1.000000</td>\n",
       "      <td>0.000000</td>\n",
       "    </tr>\n",
       "    <tr>\n",
       "      <th>75%</th>\n",
       "      <td>2.000000</td>\n",
       "      <td>1.000000</td>\n",
       "      <td>145.000000</td>\n",
       "      <td>203.000000</td>\n",
       "      <td>1.000000</td>\n",
       "      <td>3.100000</td>\n",
       "      <td>14.000000</td>\n",
       "      <td>0.500000</td>\n",
       "      <td>0.500000</td>\n",
       "      <td>0.000000</td>\n",
       "      <td>0.300000</td>\n",
       "      <td>18.660000</td>\n",
       "      <td>1.000000</td>\n",
       "      <td>0.000000</td>\n",
       "    </tr>\n",
       "    <tr>\n",
       "      <th>max</th>\n",
       "      <td>2.000000</td>\n",
       "      <td>5.000000</td>\n",
       "      <td>265.000000</td>\n",
       "      <td>265.000000</td>\n",
       "      <td>9.000000</td>\n",
       "      <td>8.430000</td>\n",
       "      <td>180.000000</td>\n",
       "      <td>4.500000</td>\n",
       "      <td>3.550000</td>\n",
       "      <td>22.740000</td>\n",
       "      <td>0.300000</td>\n",
       "      <td>452.800000</td>\n",
       "      <td>2.000000</td>\n",
       "      <td>2.750000</td>\n",
       "    </tr>\n",
       "  </tbody>\n",
       "</table>\n",
       "</div>"
      ],
      "text/plain": [
       "            VendorID     RatecodeID   PULocationID   DOLocationID  \\\n",
       "count  171941.000000  171941.000000  171941.000000  171941.000000   \n",
       "mean        1.842190       1.045731     103.152558     133.958707   \n",
       "std         0.364564       0.424170      68.253994      77.035977   \n",
       "min         1.000000       1.000000       1.000000       1.000000   \n",
       "25%         2.000000       1.000000      52.000000      66.000000   \n",
       "50%         2.000000       1.000000      75.000000     137.000000   \n",
       "75%         2.000000       1.000000     145.000000     203.000000   \n",
       "max         2.000000       5.000000     265.000000     265.000000   \n",
       "\n",
       "       passenger_count  trip_distance    fare_amount          extra  \\\n",
       "count    171941.000000  171941.000000  171941.000000  171941.000000   \n",
       "mean          1.306262       2.359276      11.121357       0.448590   \n",
       "std           0.965556       1.759422       6.393361       0.632314   \n",
       "min           0.000000       0.010000       0.010000       0.000000   \n",
       "25%           1.000000       1.080000       6.500000       0.000000   \n",
       "50%           1.000000       1.800000       9.500000       0.500000   \n",
       "75%           1.000000       3.100000      14.000000       0.500000   \n",
       "max           9.000000       8.430000     180.000000       4.500000   \n",
       "\n",
       "             mta_tax   tolls_amount  improvement_surcharge   total_amount  \\\n",
       "count  171941.000000  171941.000000          171941.000000  171941.000000   \n",
       "mean        0.494548       0.077659               0.298234      15.148219   \n",
       "std         0.052529       0.690598               0.022948       8.329871   \n",
       "min         0.000000       0.000000               0.000000       0.010000   \n",
       "25%         0.500000       0.000000               0.300000       9.360000   \n",
       "50%         0.500000       0.000000               0.300000      12.880000   \n",
       "75%         0.500000       0.000000               0.300000      18.660000   \n",
       "max         3.550000      22.740000               0.300000     452.800000   \n",
       "\n",
       "           trip_type  congestion_surcharge  \n",
       "count  171941.000000         171941.000000  \n",
       "mean        1.010719              0.600055  \n",
       "std         0.102976              1.135714  \n",
       "min         1.000000              0.000000  \n",
       "25%         1.000000              0.000000  \n",
       "50%         1.000000              0.000000  \n",
       "75%         1.000000              0.000000  \n",
       "max         2.000000              2.750000  "
      ]
     },
     "execution_count": 2,
     "metadata": {},
     "output_type": "execute_result"
    }
   ],
   "source": [
    "features = ['VendorID', 'RatecodeID', 'PULocationID', 'DOLocationID', 'passenger_count', \n",
    "            'trip_distance', 'fare_amount', 'extra', 'mta_tax', 'tolls_amount', \n",
    "            'improvement_surcharge', 'total_amount', 'trip_type', 'congestion_surcharge', 'tip']\n",
    "\n",
    "file_path = '' #TODO: provide the file path or URL to the dataset `trip_data.csv`\n",
    "df = pd.read_csv(\"/Users/roshnaey/Desktop/trip_data.csv\", usecols=features)\n",
    "\n",
    "#after the data is loaded in the dataframe, you would normally perform preliminary analysis to verify the data.\n",
    "# For example, using df.head() and df.describe() but you can skip that step for now. \n",
    "\n",
    "#assign the input features to a variable called 'X' and the labels in a variable called 'y'\n",
    "X = df.iloc[:,0:14].to_numpy() #input features\n",
    "y = df.iloc[:,14].tolist() #labels\n",
    "\n",
    "df.describe()"
   ]
  },
  {
   "cell_type": "markdown",
   "metadata": {},
   "source": [
    "### Step 2 – Split the data\n",
    "Hint: use the [train_test_split](https://scikit-learn.org/stable/modules/generated/sklearn.model_selection.train_test_split.html) method from scikit-learn."
   ]
  },
  {
   "cell_type": "code",
   "execution_count": 3,
   "metadata": {},
   "outputs": [],
   "source": [
    "seed = 1234 #TODO: provide an integer for the random number generator.\n",
    "\n",
    "#Split the dataset into training set and test set\n",
    "X_train, X_test, y_train, y_test = train_test_split(X, y,\n",
    "                                                    test_size = 0.3 , #TODO: provide the test_size (refer to the instructions for the assignment)\n",
    "                                                    random_state = seed, #seed the random generator for reproducibilty\n",
    "                                                    stratify = y #TODO: provide the variable\n",
    "                                                   )\n",
    "\n",
    "#Note: X_train and y_train are the input features and labels for the training set respectively.\n",
    "#Note: X_test and y_test are the input features and labels for the test set respectively."
   ]
  },
  {
   "cell_type": "markdown",
   "metadata": {},
   "source": [
    "### Step 3 - Create the decision tree\n",
    "Hint: use the [DecisionTreeClassifier](https://scikit-learn.org/stable/modules/generated/sklearn.tree.DecisionTreeClassifier.html#sklearn.tree.DecisionTreeClassifier) in scikit-learn. Here is an example on how to use build a [decision tree for classification](https://scikit-learn.org/stable/modules/tree.html#classification)."
   ]
  },
  {
   "cell_type": "code",
   "execution_count": 4,
   "metadata": {},
   "outputs": [],
   "source": [
    "#Instantiate the Decision Tree Classifier object \n",
    "dt_classifier = DecisionTreeClassifier(criterion= 'gini', #TODO: choose either 'gini' or 'entropy'\n",
    "                                       max_depth= 5 #TODO: set the value (refer to the instructions above)\n",
    "                                      )\n",
    "\n",
    "#TODO: Train Decision Tree Classifier using the `fit` method\n",
    "regression_1 = DecisionTreeClassifier(max_depth =5)\n",
    "regression_1.fit(X_train, y_train)\n",
    "\n",
    "#TODO: Make predictions with `X_test` and store the result in a variable called `y_pred`\n",
    "y_pred1 = regression_1.predict(X_test)"
   ]
  },
  {
   "cell_type": "markdown",
   "metadata": {},
   "source": [
    "#### Evaluate the prediction accuracy\n",
    "Hint: use the [accuracy_score](https://scikit-learn.org/stable/modules/generated/sklearn.metrics.accuracy_score.html#sklearn.metrics.accuracy_score) to determine how many observations were classified correctly. Use `y_test` and `y_pred` for the calculations."
   ]
  },
  {
   "cell_type": "code",
   "execution_count": 5,
   "metadata": {},
   "outputs": [
    {
     "data": {
      "text/plain": [
       "0.6667119012077622"
      ]
     },
     "execution_count": 5,
     "metadata": {},
     "output_type": "execute_result"
    }
   ],
   "source": [
    "#TODO: calculate and display the accuracy score using `y_test` and `y_pred`\n",
    "from sklearn.metrics import accuracy_score\n",
    "accuracy_score(y_test, y_pred1)"
   ]
  },
  {
   "cell_type": "code",
   "execution_count": 6,
   "metadata": {},
   "outputs": [],
   "source": [
    "## Since the value for the accuracy score for the max depth = 5 is below 0.8 (~0.662137) I'll be running the\n",
    "## code again with a larger max_depth"
   ]
  },
  {
   "cell_type": "code",
   "execution_count": 7,
   "metadata": {},
   "outputs": [
    {
     "data": {
      "text/plain": [
       "0.8114301223271233"
      ]
     },
     "execution_count": 7,
     "metadata": {},
     "output_type": "execute_result"
    }
   ],
   "source": [
    "#TODO: Train Decision Tree Classifier using the `fit` method with Max_Depth different than 5\n",
    "regression_2 = DecisionTreeClassifier(max_depth =9)\n",
    "regression_2.fit(X, y)\n",
    "\n",
    "#TODO: Make predictions with `X_test` and store the result in a variable called `y_pred`\n",
    "y_pred2 = regression_2.predict(X_test)\n",
    "\n",
    "#TODO: calculate and display the accuracy score using `y_test` and `y_pred`\n",
    "from sklearn.metrics import accuracy_score\n",
    "accuracy_score(y_test, y_pred2)"
   ]
  },
  {
   "cell_type": "markdown",
   "metadata": {},
   "source": [
    "### Step 4 - Visualize the decision tree\n",
    "Hint: use the export_graphviz method. An [example is shown here](https://scikit-learn.org/stable/modules/tree.html#classification). Alternatively, you may use your preferred library/tool to display the tree."
   ]
  },
  {
   "cell_type": "code",
   "execution_count": 10,
   "metadata": {},
   "outputs": [
    {
     "data": {
      "image/png": "[encoded data removed]",
      "text/plain": [
       "<Figure size 432x288 with 1 Axes>"
      ]
     },
     "metadata": {
      "needs_background": "light"
     },
     "output_type": "display_data"
    }
   ],
   "source": [
    "#TODO: Display the decision tree\n",
    "import matplotlib\n",
    "from sklearn import tree\n",
    "decisiontree_plot = tree.plot_tree(regression_2)"
   ]
  },
  {
   "cell_type": "markdown",
   "metadata": {},
   "source": [
    "### Summarize the results using one paragraph (2-5 sentences)"
   ]
  },
  {
   "cell_type": "code",
   "execution_count": null,
   "metadata": {},
   "outputs": [],
   "source": [
    "## Obviously, the above decision tree is very difficult to navigate \n",
    "## and understand. This is due to the high max-depth value.\n",
    "## If the max-depth value were lowered back to 5, the visualization \n",
    "## is much easier to read, but it is less accurate. For the sake of\n",
    "## practicality, the easier decision tree to follow would be preferred\n",
    "## over the most accurate but difficult to use tree. \n",
    "## For this reason, if I were reporting to a taxi service or \n",
    "## organization, I would use a model that is easier for them to \n",
    "## understand even if it jeopardizes accuracy within a reasonable limit."
   ]
  },
  {
   "cell_type": "code",
   "execution_count": null,
   "metadata": {},
   "outputs": [],
   "source": []
  }
 ],
 "metadata": {
  "kernelspec": {
   "display_name": "Python 3",
   "language": "python",
   "name": "python3"
  },
  "language_info": {
   "codemirror_mode": {
    "name": "ipython",
    "version": 3
   },
   "file_extension": ".py",
   "mimetype": "text/x-python",
   "name": "python",
   "nbconvert_exporter": "python",
   "pygments_lexer": "ipython3",
   "version": "3.8.5"
  }
 },
 "nbformat": 4,
 "nbformat_minor": 2
}
